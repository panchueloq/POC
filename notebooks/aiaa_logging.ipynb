{
 "cells": [
  {
   "cell_type": "markdown",
   "metadata": {},
   "source": [
    "# AIAA Data Profiling Notebook\n",
    "\n",
    "This notebook connects to a Snowflake database, queries and processes data, performs minimal exploration, and logs segmented profiles to WhyLabs."
   ]
  },
  {
   "cell_type": "markdown",
   "metadata": {},
   "source": [
    "## Importing Libraries"
   ]
  },
  {
   "cell_type": "code",
   "execution_count": 1,
   "metadata": {},
   "outputs": [],
   "source": [
    "import pandas as pd\n",
    "import snowflake.connector\n",
    "import whylogs as why\n",
    "from datetime import datetime, timezone\n",
    "from whylogs.core.schema import DatasetSchema\n",
    "from whylogs.core.segmentation_partition import ColumnMapperFunction, SegmentationPartition\n",
    "from whylogs.api.writer.whylabs import WhyLabsWriter\n",
    "import os\n",
    "import numpy as np"
   ]
  },
  {
   "cell_type": "markdown",
   "metadata": {},
   "source": [
    "## Ingesting Data"
   ]
  },
  {
   "cell_type": "markdown",
   "metadata": {},
   "source": [
    "### Define Snowflake Connection"
   ]
  },
  {
   "cell_type": "markdown",
   "metadata": {},
   "source": [
    "Make sure you write down your password before running the next cell"
   ]
  },
  {
   "cell_type": "code",
   "execution_count": 2,
   "metadata": {},
   "outputs": [],
   "source": [
    "USER_NAME = \"n-ITD_03968_WARRANTY_ANALYTICS_SVC\"\n",
    "PASSWORD = \"\"  # Enter your password\n",
    "ACCOUNT_IDENTIFIER = \"paccar\"\n",
    "WAREHOUSE = \"ITD_REN_03_968_WARRANTY_AI_LARGE_WH\"\n",
    "DATABASE = \"OMEGA_PROD_DB\"\n",
    "SCHEMA = \"ITD_AACOE_WARRANTY_AI\"\n",
    "\n",
    "conn = snowflake.connector.connect(\n",
    "    user=USER_NAME,\n",
    "    password=PASSWORD,\n",
    "    account=ACCOUNT_IDENTIFIER,\n",
    "    warehouse=WAREHOUSE,\n",
    "    database=DATABASE,\n",
    "    schema=SCHEMA,\n",
    ")"
   ]
  },
  {
   "cell_type": "markdown",
   "metadata": {},
   "source": [
    "### Define Features"
   ]
  },
  {
   "cell_type": "code",
   "execution_count": 4,
   "metadata": {},
   "outputs": [],
   "source": [
    "relevant_features = [\n",
    "    \"total_labor_hours_claimed\",\n",
    "    \"total_labor_cost_claimed\",\n",
    "    \"total_parts_cost_claimed\",\n",
    "    \"total_misc_cost_claimed\",\n",
    "    \"causal_part_model_no\",  # high cardinality\n",
    "    \"chassisdivcd\",\n",
    "    \"claim_category_cd\",\n",
    "    \"engine_hours_quantity\",\n",
    "    \"failure_location_cd\",  # high cardinality\n",
    "    \"failure_type_cd\",\n",
    "    \"supplier_cd\",\n",
    "    \"vehicle_mileage_quantity\",\n",
    "]\n",
    "relevant_features = \", \".join([f'\"{column}\"' for column in relevant_features])"
   ]
  },
  {
   "cell_type": "markdown",
   "metadata": {},
   "source": [
    "### Defining and executing query"
   ]
  },
  {
   "cell_type": "code",
   "execution_count": 5,
   "metadata": {},
   "outputs": [],
   "source": [
    "query = f\"\"\"\n",
    "SELECT \n",
    "    {relevant_features},\n",
    "    l.\"real_auto_approve_flag\" AS cls_output, \n",
    "    l.\"real_auto_approve_score\" AS score_output,\n",
    "    CASE WHEN w.TOTAL_REQUESTED_AMT = w.TOTAL_APPROVED_AMT THEN TRUE ELSE FALSE END AS GROUND_TRUTH,\n",
    "    l.\"quality_control_flag\",\n",
    "    w.CLAIMDIVCD AS division,\n",
    "    w.CLAIM_RESOLUTION_DTTM\n",
    "FROM \"OMEGA_PROD_DB\".\"ITD_AACOE_WARRANTY_AI\".\"ML_CLAIMS_LOG\" l\n",
    "INNER JOIN \"OMEGA_PROD_DB\".\"ITD_NGW_REPORTING\".\"VW_PRW_DEALER_WARRANTY_CLAIM_ALL\" w\n",
    "    ON l.\"dealer_claim_id\" = w.DEALER_CLAIM_ID\n",
    "    AND l.\"vin17\" = w.VIN17\n",
    "WHERE TRY_TO_DATE(l.\"claim_submit_dt\") >= '2024-06-01'\n",
    "ORDER BY l.\"claim_submit_dt\";\n",
    "\"\"\""
   ]
  },
  {
   "cell_type": "code",
   "execution_count": 6,
   "metadata": {},
   "outputs": [],
   "source": [
    "cur = conn.cursor()\n",
    "cur.execute(query)\n",
    "df = cur.fetch_pandas_all()"
   ]
  },
  {
   "cell_type": "markdown",
   "metadata": {},
   "source": [
    "The following cell will close the connection to Snowflake. It is a good practice to do this, but not strictly necessary. "
   ]
  },
  {
   "cell_type": "code",
   "execution_count": 7,
   "metadata": {},
   "outputs": [],
   "source": [
    "cur.close()\n",
    "conn.close()"
   ]
  },
  {
   "cell_type": "markdown",
   "metadata": {},
   "source": [
    "The following cell does some DataFrame cleaning and filtering before we make profiles out of it."
   ]
  },
  {
   "cell_type": "code",
   "execution_count": 8,
   "metadata": {},
   "outputs": [
    {
     "data": {
      "text/html": [
       "<div>\n",
       "<style scoped>\n",
       "    .dataframe tbody tr th:only-of-type {\n",
       "        vertical-align: middle;\n",
       "    }\n",
       "\n",
       "    .dataframe tbody tr th {\n",
       "        vertical-align: top;\n",
       "    }\n",
       "\n",
       "    .dataframe thead th {\n",
       "        text-align: right;\n",
       "    }\n",
       "</style>\n",
       "<table border=\"1\" class=\"dataframe\">\n",
       "  <thead>\n",
       "    <tr style=\"text-align: right;\">\n",
       "      <th></th>\n",
       "      <th>total_labor_hours_claimed</th>\n",
       "      <th>total_labor_cost_claimed</th>\n",
       "      <th>total_parts_cost_claimed</th>\n",
       "      <th>total_misc_cost_claimed</th>\n",
       "      <th>causal_part_model_no</th>\n",
       "      <th>chassisdivcd</th>\n",
       "      <th>claim_category_cd</th>\n",
       "      <th>engine_hours_quantity</th>\n",
       "      <th>failure_location_cd</th>\n",
       "      <th>failure_type_cd</th>\n",
       "      <th>supplier_cd</th>\n",
       "      <th>vehicle_mileage_quantity</th>\n",
       "      <th>cls_output</th>\n",
       "      <th>score_output</th>\n",
       "      <th>ground_truth</th>\n",
       "      <th>quality_control_flag</th>\n",
       "      <th>division</th>\n",
       "      <th>claim_resolution_dttm</th>\n",
       "    </tr>\n",
       "  </thead>\n",
       "  <tbody>\n",
       "    <tr>\n",
       "      <th>2</th>\n",
       "      <td>6.00</td>\n",
       "      <td>1295.400</td>\n",
       "      <td>586.73</td>\n",
       "      <td>647.70</td>\n",
       "      <td>None</td>\n",
       "      <td>P</td>\n",
       "      <td>ENG</td>\n",
       "      <td>3350.0</td>\n",
       "      <td>044004001</td>\n",
       "      <td>51</td>\n",
       "      <td>78584</td>\n",
       "      <td>110991.0</td>\n",
       "      <td>0</td>\n",
       "      <td>0.559740</td>\n",
       "      <td>0</td>\n",
       "      <td>0</td>\n",
       "      <td>P</td>\n",
       "      <td>2024-07-09 06:55:53.292</td>\n",
       "    </tr>\n",
       "    <tr>\n",
       "      <th>3</th>\n",
       "      <td>0.50</td>\n",
       "      <td>30.000</td>\n",
       "      <td>0.00</td>\n",
       "      <td>3.00</td>\n",
       "      <td>None</td>\n",
       "      <td>F</td>\n",
       "      <td>TRK</td>\n",
       "      <td>NaN</td>\n",
       "      <td>002015035</td>\n",
       "      <td>39</td>\n",
       "      <td>None</td>\n",
       "      <td>16.0</td>\n",
       "      <td>1</td>\n",
       "      <td>0.958509</td>\n",
       "      <td>1</td>\n",
       "      <td>0</td>\n",
       "      <td>F</td>\n",
       "      <td>2024-07-10 11:00:14.388</td>\n",
       "    </tr>\n",
       "    <tr>\n",
       "      <th>4</th>\n",
       "      <td>1.40</td>\n",
       "      <td>284.578</td>\n",
       "      <td>267.21</td>\n",
       "      <td>142.28</td>\n",
       "      <td>None</td>\n",
       "      <td>P</td>\n",
       "      <td>ENG</td>\n",
       "      <td>7419.0</td>\n",
       "      <td>044002002</td>\n",
       "      <td>64</td>\n",
       "      <td>87164</td>\n",
       "      <td>281032.0</td>\n",
       "      <td>0</td>\n",
       "      <td>0.679893</td>\n",
       "      <td>1</td>\n",
       "      <td>0</td>\n",
       "      <td>P</td>\n",
       "      <td>2024-07-22 13:48:57.400</td>\n",
       "    </tr>\n",
       "    <tr>\n",
       "      <th>6</th>\n",
       "      <td>1.00</td>\n",
       "      <td>190.000</td>\n",
       "      <td>604.38</td>\n",
       "      <td>0.00</td>\n",
       "      <td>None</td>\n",
       "      <td>P</td>\n",
       "      <td>TRK</td>\n",
       "      <td>NaN</td>\n",
       "      <td>032002001</td>\n",
       "      <td>38</td>\n",
       "      <td>20542AB</td>\n",
       "      <td>306196.0</td>\n",
       "      <td>0</td>\n",
       "      <td>0.720525</td>\n",
       "      <td>1</td>\n",
       "      <td>0</td>\n",
       "      <td>P</td>\n",
       "      <td>2024-07-31 06:56:50.095</td>\n",
       "    </tr>\n",
       "    <tr>\n",
       "      <th>10</th>\n",
       "      <td>2.82</td>\n",
       "      <td>507.600</td>\n",
       "      <td>1636.85</td>\n",
       "      <td>0.00</td>\n",
       "      <td>None</td>\n",
       "      <td>P</td>\n",
       "      <td>ENG</td>\n",
       "      <td>10535.0</td>\n",
       "      <td>043004107</td>\n",
       "      <td>82</td>\n",
       "      <td>04383AB</td>\n",
       "      <td>311345.0</td>\n",
       "      <td>0</td>\n",
       "      <td>0.609506</td>\n",
       "      <td>0</td>\n",
       "      <td>0</td>\n",
       "      <td>P</td>\n",
       "      <td>2024-07-08 17:36:42.896</td>\n",
       "    </tr>\n",
       "  </tbody>\n",
       "</table>\n",
       "</div>"
      ],
      "text/plain": [
       "    total_labor_hours_claimed  total_labor_cost_claimed  \\\n",
       "2                        6.00                  1295.400   \n",
       "3                        0.50                    30.000   \n",
       "4                        1.40                   284.578   \n",
       "6                        1.00                   190.000   \n",
       "10                       2.82                   507.600   \n",
       "\n",
       "    total_parts_cost_claimed  total_misc_cost_claimed causal_part_model_no  \\\n",
       "2                     586.73                   647.70                 None   \n",
       "3                       0.00                     3.00                 None   \n",
       "4                     267.21                   142.28                 None   \n",
       "6                     604.38                     0.00                 None   \n",
       "10                   1636.85                     0.00                 None   \n",
       "\n",
       "   chassisdivcd claim_category_cd  engine_hours_quantity failure_location_cd  \\\n",
       "2             P               ENG                 3350.0           044004001   \n",
       "3             F               TRK                    NaN           002015035   \n",
       "4             P               ENG                 7419.0           044002002   \n",
       "6             P               TRK                    NaN           032002001   \n",
       "10            P               ENG                10535.0           043004107   \n",
       "\n",
       "   failure_type_cd supplier_cd  vehicle_mileage_quantity  cls_output  \\\n",
       "2               51       78584                  110991.0           0   \n",
       "3               39        None                      16.0           1   \n",
       "4               64       87164                  281032.0           0   \n",
       "6               38     20542AB                  306196.0           0   \n",
       "10              82     04383AB                  311345.0           0   \n",
       "\n",
       "    score_output  ground_truth  quality_control_flag division  \\\n",
       "2       0.559740             0                     0        P   \n",
       "3       0.958509             1                     0        F   \n",
       "4       0.679893             1                     0        P   \n",
       "6       0.720525             1                     0        P   \n",
       "10      0.609506             0                     0        P   \n",
       "\n",
       "     claim_resolution_dttm  \n",
       "2  2024-07-09 06:55:53.292  \n",
       "3  2024-07-10 11:00:14.388  \n",
       "4  2024-07-22 13:48:57.400  \n",
       "6  2024-07-31 06:56:50.095  \n",
       "10 2024-07-08 17:36:42.896  "
      ]
     },
     "execution_count": 8,
     "metadata": {},
     "output_type": "execute_result"
    }
   ],
   "source": [
    "pd.set_option(\"display.max_columns\", None)\n",
    "df.columns = df.columns.str.lower()\n",
    "df[[\"cls_output\", \"ground_truth\", \"quality_control_flag\"]] = df[[\"cls_output\", \"ground_truth\", \"quality_control_flag\"]].astype(int)\n",
    "\n",
    "cutoff_date = pd.to_datetime(\"2024-07-01\").date()\n",
    "monitored_claims = df[df[\"claim_resolution_dttm\"].dt.date >= cutoff_date]\n",
    "\n",
    "monitored_claims.head()"
   ]
  },
  {
   "cell_type": "markdown",
   "metadata": {},
   "source": [
    "## Drift Injection Functions"
   ]
  },
  {
   "cell_type": "markdown",
   "metadata": {},
   "source": [
    "### Drift for numerical features"
   ]
  },
  {
   "cell_type": "code",
   "execution_count": 9,
   "metadata": {},
   "outputs": [],
   "source": [
    "SUDDEN_DRIFT_DAY_NUMBER = 24\n",
    "SUDDEN_DRIFT_STD_DEVIATION_NUMBER = 5\n",
    "\n",
    "GRADUAL_DRIFT_STD_DEVIATION_NUMBER = 5\n",
    "GRADUAL_DRIFT_WINDOW_SIZE = 6\n",
    "\n",
    "INCREMENTAL_DRIFT_START_DAY = 7\n",
    "INCREMENTAL_DRIFT_END_DAY = 44\n",
    "INCREMENTAL_DRIFT_MAX_STD_DEVIATION_NUMBER = 5\n",
    "\n",
    "REOCURRING_CONCEPT_START_DAY = 7\n",
    "REOCURRING_CONCEPT_END_DAY = 44\n",
    "REOCURRING_CONCEPT_STD_DEVIATION_NUMBER = 5\n",
    "\n",
    "\n",
    "def add_noise(\n",
    "    df: pd.DataFrame,\n",
    "    column: str,\n",
    "    percentage: float = 0.65,\n",
    "    added_std: float = None,\n",
    "    value: float = None,\n",
    "):\n",
    "    data_to_add_noise = df.sample(frac=percentage)\n",
    "    if added_std:\n",
    "        std = data_to_add_noise[column].std()\n",
    "        value = added_std * std\n",
    "    data_to_add_noise[column] = data_to_add_noise[column] + value\n",
    "    df.update(data_to_add_noise)\n",
    "\n",
    "    return df\n",
    "\n",
    "\n",
    "def add_null(\n",
    "    df: pd.DataFrame,\n",
    "    column: str,\n",
    "    percentage: float = 0.07,\n",
    "):\n",
    "    data_to_add_noise = df.sample(frac=percentage)\n",
    "    data_to_add_noise[column] = None\n",
    "    df.update(data_to_add_noise)\n",
    "\n",
    "    return df\n",
    "\n",
    "\n",
    "def sudden_drift(df: pd.DataFrame, column: str, day_number: int):\n",
    "    if day_number > SUDDEN_DRIFT_DAY_NUMBER:\n",
    "        df = add_noise(df, column, added_std=SUDDEN_DRIFT_STD_DEVIATION_NUMBER)\n",
    "    return df\n",
    "\n",
    "\n",
    "def gradual_drift(df: pd.DataFrame, column: str, day_number: int):\n",
    "    bin_number = int(day_number / GRADUAL_DRIFT_WINDOW_SIZE)\n",
    "    offset_number = int(day_number % GRADUAL_DRIFT_WINDOW_SIZE)\n",
    "    if offset_number >= GRADUAL_DRIFT_WINDOW_SIZE - bin_number:\n",
    "        df = add_noise(df, column, added_std=GRADUAL_DRIFT_STD_DEVIATION_NUMBER)\n",
    "    return df\n",
    "\n",
    "\n",
    "def incremental_drift(df: pd.DataFrame, column: str, day_number: int):\n",
    "    if day_number < INCREMENTAL_DRIFT_START_DAY:\n",
    "        return df\n",
    "    elif day_number > INCREMENTAL_DRIFT_END_DAY:\n",
    "        added_std = INCREMENTAL_DRIFT_MAX_STD_DEVIATION_NUMBER\n",
    "    else:\n",
    "        added_std = (\n",
    "            INCREMENTAL_DRIFT_MAX_STD_DEVIATION_NUMBER\n",
    "            * day_number\n",
    "            / (INCREMENTAL_DRIFT_END_DAY - INCREMENTAL_DRIFT_START_DAY)\n",
    "        )\n",
    "    df = add_noise(df, column, added_std=added_std)\n",
    "    return df\n",
    "\n",
    "\n",
    "def reocurring_concepts(df: pd.DataFrame, column: str, day_number: int):\n",
    "    if (\n",
    "        day_number < REOCURRING_CONCEPT_START_DAY\n",
    "        or day_number > REOCURRING_CONCEPT_END_DAY\n",
    "    ):\n",
    "        return df\n",
    "    else:\n",
    "        return add_noise(df, column, added_std=REOCURRING_CONCEPT_STD_DEVIATION_NUMBER)"
   ]
  },
  {
   "cell_type": "markdown",
   "metadata": {},
   "source": [
    "### Drift for categorical features"
   ]
  },
  {
   "cell_type": "code",
   "execution_count": 10,
   "metadata": {},
   "outputs": [],
   "source": [
    "SUDDEN_DRIFT_CAT_DAY_NUMBER = 24\n",
    "SUDDEN_DRIFT_CAT_TARGET = \"K\"  # Placeholder: Replace with your target category\n",
    "SUDDEN_DRIFT_CAT_INCREASE_PROB = 0.6  # Suggestion: Adjust based on desired impact\n",
    "\n",
    "GRADUAL_DRIFT_CAT_START_DAY = 20\n",
    "GRADUAL_DRIFT_CAT_END_DAY = 60\n",
    "GRADUAL_DRIFT_CAT_TARGET = \"ENG\"  # Placeholder: Replace with your target category\n",
    "GRADUAL_DRIFT_CAT_MAX_INCREASE_PROB = 0.6  # Suggestion: Adjust based on desired impact\n",
    "\n",
    "INCREMENTAL_DRIFT_CAT_START_DAY = 20\n",
    "INCREMENTAL_DRIFT_CAT_END_DAY = 60\n",
    "INCREMENTAL_DRIFT_CAT_TRANSITIONS = {\n",
    "    \"51\": (\n",
    "        \"38\",\n",
    "        0.5,\n",
    "    ),  # Placeholder: Define original-target pairs and max probabilities\n",
    "}\n",
    "\n",
    "REOCURRING_CONCEPT_CAT_CYCLE_LENGTH = (\n",
    "    7  # Suggestion: Adjust based on the frequency of concept changes\n",
    ")\n",
    "REOCURRING_CONCEPT_CAT_DISTRIBUTIONS = {\n",
    "    0: {\n",
    "        \"01674AA\": 0.7,\n",
    "        \"15310AA\": 0.3,\n",
    "    },  # Placeholder: Define distributions for different cycles\n",
    "    1: {\"01674AA\": 0.3, \"15310AA\": 0.7},\n",
    "}\n",
    "\n",
    "def sudden_drift_categorical(df, column, day_number):\n",
    "    if day_number > SUDDEN_DRIFT_CAT_DAY_NUMBER:\n",
    "        df[column] = df[column].apply(\n",
    "            lambda x: np.random.choice(\n",
    "                [SUDDEN_DRIFT_CAT_TARGET, x],\n",
    "                p=[SUDDEN_DRIFT_CAT_INCREASE_PROB, 1 - SUDDEN_DRIFT_CAT_INCREASE_PROB],\n",
    "            )\n",
    "        )\n",
    "    return df\n",
    "\n",
    "\n",
    "def gradual_drift_categorical(df, column, day_number):\n",
    "    if GRADUAL_DRIFT_CAT_START_DAY <= day_number <= GRADUAL_DRIFT_CAT_END_DAY:\n",
    "        progress = (day_number - GRADUAL_DRIFT_CAT_START_DAY) / (\n",
    "            GRADUAL_DRIFT_CAT_END_DAY - GRADUAL_DRIFT_CAT_START_DAY\n",
    "        )\n",
    "        increased_prob = GRADUAL_DRIFT_CAT_MAX_INCREASE_PROB * progress\n",
    "        df[column] = df[column].apply(\n",
    "            lambda x: np.random.choice(\n",
    "                [GRADUAL_DRIFT_CAT_TARGET, x], p=[increased_prob, 1 - increased_prob]\n",
    "            )\n",
    "        )\n",
    "    return df\n",
    "\n",
    "\n",
    "def incremental_drift_categorical(df, column, day_number):\n",
    "    if INCREMENTAL_DRIFT_CAT_START_DAY <= day_number <= INCREMENTAL_DRIFT_CAT_END_DAY:\n",
    "        progress = (day_number - INCREMENTAL_DRIFT_CAT_START_DAY) / (\n",
    "            INCREMENTAL_DRIFT_CAT_END_DAY - INCREMENTAL_DRIFT_CAT_START_DAY\n",
    "        )\n",
    "        for original, (target, max_prob) in INCREMENTAL_DRIFT_CAT_TRANSITIONS.items():\n",
    "            transition_probability = progress * max_prob\n",
    "            df[column] = df[column].apply(\n",
    "                lambda x: np.random.choice(\n",
    "                    [target if x == original else x, x],\n",
    "                    p=[transition_probability, 1 - transition_probability],\n",
    "                )\n",
    "            )\n",
    "    return df\n",
    "\n",
    "\n",
    "def reoccurring_concepts_categorical(df, column, day_number):\n",
    "    current_phase = day_number % REOCURRING_CONCEPT_CAT_CYCLE_LENGTH\n",
    "    if current_phase in REOCURRING_CONCEPT_CAT_DISTRIBUTIONS:\n",
    "        for category, prob in REOCURRING_CONCEPT_CAT_DISTRIBUTIONS[\n",
    "            current_phase\n",
    "        ].items():\n",
    "            df[column] = df[column].apply(\n",
    "                lambda x: np.random.choice(\n",
    "                    [category if x == category else x, x], p=[prob, 1 - prob]\n",
    "                )\n",
    "            )\n",
    "    return df"
   ]
  },
  {
   "cell_type": "markdown",
   "metadata": {},
   "source": [
    "## Profiling and logging into Whylabs"
   ]
  },
  {
   "cell_type": "markdown",
   "metadata": {},
   "source": [
    "### Setting up environment variables"
   ]
  },
  {
   "cell_type": "markdown",
   "metadata": {},
   "source": [
    "Before you run the next cell, make sure you go to Whylabs and create a new resource. To do this go to the main Organization Dashboard and click on `Set up resource` \n",
    "\n",
    "Then write down the ID of the new resource and run the cell. Make sure you don't use another ID as you might be overwriting another project."
   ]
  },
  {
   "cell_type": "code",
   "execution_count": 11,
   "metadata": {},
   "outputs": [],
   "source": [
    "os.environ[\"WHYLABS_DEFAULT_ORG_ID\"] = \"org-d2HtfF\"\n",
    "os.environ[\"WHYLABS_API_KEY\"] = (\n",
    "    \"M7f2mt6akM.6EXkWFgQhMgbDWAp0rSy9kVZ3FgFGf64sJJ1koegn8qAAkPtAHiJD:org-d2HtfF\"\n",
    ")\n",
    "os.environ[\"WHYLABS_DEFAULT_DATASET_ID\"] = \"\" # Your resource ID"
   ]
  },
  {
   "cell_type": "markdown",
   "metadata": {},
   "source": [
    "### Define the segmentation to be done"
   ]
  },
  {
   "cell_type": "code",
   "execution_count": 12,
   "metadata": {},
   "outputs": [],
   "source": [
    "segmentation_partition = SegmentationPartition(\n",
    "    name=\"division,quality_control_flag\",\n",
    "    mapper=ColumnMapperFunction(col_names=[\"division\", \"quality_control_flag\"]),\n",
    ")"
   ]
  },
  {
   "cell_type": "markdown",
   "metadata": {},
   "source": [
    "### Create profiles and log them into Whylabs"
   ]
  },
  {
   "cell_type": "markdown",
   "metadata": {},
   "source": [
    "Note that the following cell is injecting drift to the data before creating the profiles. You can `comment those lines` of code to upload clean profiles."
   ]
  },
  {
   "cell_type": "code",
   "execution_count": 13,
   "metadata": {},
   "outputs": [
    {
     "name": "stderr",
     "output_type": "stream",
     "text": [
      "/var/folders/9v/5kz9l0m96vx0p_crl5tbb1lh0000gp/T/ipykernel_72323/609856399.py:2: SettingWithCopyWarning: \n",
      "A value is trying to be set on a copy of a slice from a DataFrame.\n",
      "Try using .loc[row_indexer,col_indexer] = value instead\n",
      "\n",
      "See the caveats in the documentation: https://pandas.pydata.org/pandas-docs/stable/user_guide/indexing.html#returning-a-view-versus-a-copy\n",
      "  monitored_claims[\"claim_resolution_dttm\"] = pd.to_datetime(monitored_claims[\"claim_resolution_dttm\"])\n"
     ]
    },
    {
     "name": "stdout",
     "output_type": "stream",
     "text": [
      "⚠️ Initializing default session because no session was found.\n",
      "Initializing session with config /Users/fquagliotti/Library/Application Support/whylogs/config.ini\n",
      "\n",
      "✅ Using session type: LOCAL. Profiles won't be uploaded or written anywhere automatically.\n",
      "Logged profile for 2024-07-01\n",
      "Logged profile for 2024-07-02\n",
      "Logged profile for 2024-07-03\n",
      "Logged profile for 2024-07-04\n",
      "Logged profile for 2024-07-05\n",
      "Logged profile for 2024-07-06\n",
      "Logged profile for 2024-07-07\n",
      "Logged profile for 2024-07-08\n",
      "Logged profile for 2024-07-09\n",
      "Logged profile for 2024-07-10\n",
      "Logged profile for 2024-07-11\n",
      "Logged profile for 2024-07-12\n",
      "Logged profile for 2024-07-13\n",
      "Logged profile for 2024-07-14\n",
      "Logged profile for 2024-07-15\n",
      "Logged profile for 2024-07-16\n",
      "Logged profile for 2024-07-17\n",
      "Logged profile for 2024-07-18\n",
      "Logged profile for 2024-07-19\n",
      "Logged profile for 2024-07-20\n",
      "Logged profile for 2024-07-21\n",
      "Logged profile for 2024-07-22\n",
      "Logged profile for 2024-07-23\n",
      "Logged profile for 2024-07-24\n",
      "Logged profile for 2024-07-25\n",
      "Logged profile for 2024-07-26\n",
      "Logged profile for 2024-07-27\n",
      "Logged profile for 2024-07-28\n",
      "Logged profile for 2024-07-29\n",
      "Logged profile for 2024-07-30\n",
      "Logged profile for 2024-07-31\n",
      "Logged profile for 2024-08-01\n",
      "Logged profile for 2024-08-02\n",
      "Logged profile for 2024-08-03\n",
      "Logged profile for 2024-08-04\n",
      "Logged profile for 2024-08-05\n",
      "Logged profile for 2024-08-06\n",
      "Logged profile for 2024-08-07\n",
      "Logged profile for 2024-08-08\n",
      "Logged profile for 2024-08-09\n",
      "Logged profile for 2024-08-10\n",
      "Logged profile for 2024-08-11\n",
      "Logged profile for 2024-08-12\n",
      "Logged profile for 2024-08-13\n",
      "Logged profile for 2024-08-14\n",
      "Logged profile for 2024-08-15\n",
      "Logged profile for 2024-08-16\n",
      "Logged profile for 2024-08-17\n",
      "Logged profile for 2024-08-18\n",
      "Logged profile for 2024-08-19\n",
      "Logged profile for 2024-08-20\n",
      "Logged profile for 2024-08-21\n",
      "Logged profile for 2024-08-22\n",
      "Logged profile for 2024-08-23\n",
      "Logged profile for 2024-08-24\n",
      "Logged profile for 2024-08-25\n",
      "Logged profile for 2024-08-26\n",
      "Logged profile for 2024-08-27\n",
      "Logged profile for 2024-08-28\n",
      "Logged profile for 2024-08-29\n",
      "Logged profile for 2024-08-30\n",
      "Logged profile for 2024-08-31\n",
      "Logged profile for 2024-09-01\n",
      "Logged profile for 2024-09-02\n",
      "Logged profile for 2024-09-03\n",
      "Logged profile for 2024-09-04\n",
      "Logged profile for 2024-09-05\n",
      "Logged profile for 2024-09-06\n",
      "Logged profile for 2024-09-07\n",
      "Logged profile for 2024-09-08\n",
      "Logged profile for 2024-09-09\n",
      "Logged profile for 2024-09-10\n",
      "Logged profile for 2024-09-11\n",
      "Logged profile for 2024-09-12\n"
     ]
    }
   ],
   "source": [
    "# Ensure 'claim_submit_dt' is in datetime format\n",
    "monitored_claims[\"claim_resolution_dttm\"] = pd.to_datetime(monitored_claims[\"claim_resolution_dttm\"])\n",
    "\n",
    "# Group DataFrame by the 'claim_submit_dt' column\n",
    "grouped = monitored_claims.groupby(monitored_claims[\"claim_resolution_dttm\"].dt.date)\n",
    "\n",
    "# Iterate over each group and log the data\n",
    "for day_num, (date, group) in enumerate(grouped):\n",
    "    # Set the timestamp for the profile\n",
    "    timestamp = datetime.combine(date, datetime.min.time(), tzinfo=timezone.utc)\n",
    "\n",
    "    # Inject drift into numerical features (comment this to upload profiles without injected drift)\n",
    "    group = sudden_drift(group, \"total_labor_hours_claimed\", day_num)\n",
    "    group = gradual_drift(group, \"total_labor_cost_claimed\", day_num)\n",
    "    group = incremental_drift(group, \"total_parts_cost_claimed\", day_num)\n",
    "    group = reocurring_concepts(group, \"total_misc_cost_claimed\", day_num)\n",
    "    group = sudden_drift_categorical(group, \"chassisdivcd\", day_num)\n",
    "    group = gradual_drift_categorical(group, \"claim_category_cd\", day_num)\n",
    "    group = incremental_drift_categorical(group, \"failure_type_cd\", day_num)\n",
    "    group = reoccurring_concepts_categorical(group, \"supplier_cd\", day_num)\n",
    "\n",
    "    # Create profiles, outputs, and segments\n",
    "    results = why.log_classification_metrics(\n",
    "        group,\n",
    "        target_column=\"ground_truth\",\n",
    "        prediction_column=\"cls_output\",\n",
    "        score_column=\"score_output\",\n",
    "        log_full_data=True,\n",
    "        schema=DatasetSchema(\n",
    "            segments={segmentation_partition.name: segmentation_partition}\n",
    "        ),\n",
    "        dataset_timestamp=timestamp,\n",
    "    )\n",
    "    # Upload results to whylabs\n",
    "    results.writer(\"whylabs\").write()\n",
    "\n",
    "    # Print confirmation\n",
    "    print(f\"Logged profile for {date}\")"
   ]
  },
  {
   "cell_type": "markdown",
   "metadata": {},
   "source": [
    "### Create a Reference Profile"
   ]
  },
  {
   "cell_type": "code",
   "execution_count": 14,
   "metadata": {},
   "outputs": [
    {
     "data": {
      "text/plain": [
       "(True, 'ref-VSzGu08p0NlOGbMa')"
      ]
     },
     "execution_count": 14,
     "metadata": {},
     "output_type": "execute_result"
    }
   ],
   "source": [
    "ref_claims = df[df[\"claim_resolution_dttm\"].dt.month == 6]\n",
    "ref_profile = why.log(ref_claims).profile()\n",
    "writer = WhyLabsWriter().option(reference_profile_name=\"reference_june\")\n",
    "writer.write(file=ref_profile.view())"
   ]
  },
  {
   "cell_type": "markdown",
   "metadata": {},
   "source": [
    "### Deleting a profile"
   ]
  },
  {
   "cell_type": "code",
   "execution_count": 15,
   "metadata": {},
   "outputs": [],
   "source": [
    "# from datetime import datetime\n",
    "\n",
    "\n",
    "# def datetime_to_timestamp(dt):\n",
    "#     epoch = datetime.utcfromtimestamp(0)\n",
    "#     return int((dt - epoch).total_seconds() * 1000)\n",
    "\n",
    "\n",
    "# # convert '09/09/2024, 00:00:00' to a unix timestamp\n",
    "# datetime_to_timestamp(datetime(2024, 9, 10, 0, 0, 0))"
   ]
  },
  {
   "cell_type": "code",
   "execution_count": 16,
   "metadata": {},
   "outputs": [],
   "source": [
    "# ! curl -I -X 'DELETE' \\\n",
    "#   'https://api.whylabsapp.com/v0/organizations/org-d2HtfF/dataset-profiles/models/model-7?profile_start_timestamp=1725926400000&profile_end_timestamp=1725926400000' \\\n",
    "#   -H 'accept: application/json' \\\n",
    "#   -H 'X-API-Key: M7f2mt6akM.6EXkWFgQhMgbDWAp0rSy9kVZ3FgFGf64sJJ1koegn8qAAkPtAHiJD:org-d2HtfF'"
   ]
  }
 ],
 "metadata": {
  "kernelspec": {
   "display_name": "src-Ws3kXHZ2-py3.11",
   "language": "python",
   "name": "python3"
  },
  "language_info": {
   "codemirror_mode": {
    "name": "ipython",
    "version": 3
   },
   "file_extension": ".py",
   "mimetype": "text/x-python",
   "name": "python",
   "nbconvert_exporter": "python",
   "pygments_lexer": "ipython3",
   "version": "3.11.8"
  }
 },
 "nbformat": 4,
 "nbformat_minor": 2
}
